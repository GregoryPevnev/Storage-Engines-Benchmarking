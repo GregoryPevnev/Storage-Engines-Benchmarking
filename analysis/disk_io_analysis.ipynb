{
 "cells": [
  {
   "cell_type": "code",
   "execution_count": 21,
   "metadata": {},
   "outputs": [
    {
     "name": "stdout",
     "output_type": "stream",
     "text": [
      "SQLite3\n",
      "(1, 23252, 8630)\n",
      "ForestDB\n",
      "(11192, 6742, 17340)\n",
      "LevelDB\n",
      "(2, 300, 269)\n"
     ]
    }
   ],
   "source": [
    "\n",
    "import re\n",
    "\n",
    "# IMPORTANT: Counting total number of bytes in pages is illogical - Pages are NOT always fully filled up\n",
    "\n",
    "log_line_pattern = r'^\\s*\\d\\s+\\d+\\s+(W|R)\\s+(\\d+).+$'\n",
    "\n",
    "def analyze_disk_io_log_for(disk_io_log_file):\n",
    "    log_file = open(disk_io_log_file, 'r')\n",
    "\n",
    "    line_count = 0\n",
    "\n",
    "    io = { 'R': 0, 'W': 0 }\n",
    "    blocks = set()\n",
    "\n",
    "    for log_line in log_file:\n",
    "        line_count += 1\n",
    "\n",
    "        if line_count == 1 or len(log_line.strip()) == 0:\n",
    "            continue\n",
    "\n",
    "        match = re.match(log_line_pattern, log_line)\n",
    "\n",
    "        if match is None:\n",
    "            continue\n",
    "\n",
    "        operation_type = match.group(1)\n",
    "        block_number = int(match.group(2))\n",
    "\n",
    "        io[operation_type] += 1\n",
    "        blocks.add(block_number)\n",
    "\n",
    "    reads = io['R']\n",
    "    writes = io['W']\n",
    "\n",
    "    total_blocks = len(blocks)\n",
    "\n",
    "    return reads, writes, total_blocks\n",
    "\n",
    "sqlite3_disk_io_metrics = analyze_disk_io_log_for('../benchmarks/sqlite3/disk_io_log')\n",
    "forestdb_disk_io_metrics = analyze_disk_io_log_for('../benchmarks/forestdb/disk_io_log')\n",
    "leveldb_disk_io_metrics = analyze_disk_io_log_for('../benchmarks/leveldb/disk_io_log')\n",
    "\n",
    "print('SQLite3')\n",
    "print(sqlite3_disk_io_metrics)\n",
    "\n",
    "print('ForestDB')\n",
    "print(forestdb_disk_io_metrics)\n",
    "\n",
    "print('LevelDB')\n",
    "print(leveldb_disk_io_metrics)"
   ]
  },
  {
   "cell_type": "code",
   "execution_count": 22,
   "metadata": {},
   "outputs": [],
   "source": [
    "import numpy as np \n",
    "import matplotlib.pyplot as plt\n",
    "\n",
    "storage_engines_labels = ['SQLite3', 'ForestDB', 'LevelDB']\n",
    "\n",
    "storage_engines_labels_axis = np.arange(len(storage_engines_labels))"
   ]
  },
  {
   "cell_type": "markdown",
   "metadata": {},
   "source": [
    "Number of blocks used"
   ]
  },
  {
   "cell_type": "code",
   "execution_count": 23,
   "metadata": {},
   "outputs": [
    {
     "name": "stderr",
     "output_type": "stream",
     "text": [
      "No handles with labels found to put in legend.\n"
     ]
    },
    {
     "data": {
      "image/png": "[encoded data removed]",
      "text/plain": [
       "<Figure size 432x288 with 1 Axes>"
      ]
     },
     "metadata": {
      "needs_background": "light"
     },
     "output_type": "display_data"
    }
   ],
   "source": [
    "\n",
    "fig = plt.figure()\n",
    "ax = fig.add_axes([0,0,1,1])\n",
    "\n",
    "numbers_of_blocks = [sqlite3_disk_io_metrics[2], forestdb_disk_io_metrics[2], leveldb_disk_io_metrics[2]]\n",
    "\n",
    "ax.bar(storage_engines_labels, numbers_of_blocks)\n",
    "\n",
    "plt.xlabel('Storage Engines')\n",
    "plt.ylabel('Number of unique blocks')\n",
    "plt.legend()\n",
    "plt.show()"
   ]
  },
  {
   "cell_type": "markdown",
   "metadata": {},
   "source": [
    "Total number of read / write IO operations"
   ]
  },
  {
   "cell_type": "code",
   "execution_count": 24,
   "metadata": {},
   "outputs": [
    {
     "data": {
      "image/png": "[encoded data removed]",
      "text/plain": [
       "<Figure size 432x288 with 1 Axes>"
      ]
     },
     "metadata": {
      "needs_background": "light"
     },
     "output_type": "display_data"
    }
   ],
   "source": [
    "bytes_read = [sqlite3_disk_io_metrics[0], forestdb_disk_io_metrics[0], leveldb_disk_io_metrics[0]]\n",
    "bytes_written = [sqlite3_disk_io_metrics[1], forestdb_disk_io_metrics[1], leveldb_disk_io_metrics[1]]\n",
    "\n",
    "plt.bar(storage_engines_labels_axis - 0.2, bytes_read, 0.4, label = 'block IO reads')\n",
    "plt.bar(storage_engines_labels_axis + 0.2, bytes_written, 0.4, label = 'block IO writes')\n",
    "\n",
    "plt.xticks(storage_engines_labels_axis, storage_engines_labels)\n",
    "plt.xlabel('Storage Engines')\n",
    "plt.ylabel('Total number of read / write IO operations')\n",
    "plt.legend()\n",
    "plt.show()"
   ]
  }
 ],
 "metadata": {
  "interpreter": {
   "hash": "6576d4b7c288edb047b00f2ae9beb1631ad1b5016ecd86307a5a4048568b0499"
  },
  "kernelspec": {
   "display_name": "Python 3.9.7 64-bit ('Machine-Learning': conda)",
   "name": "python3"
  },
  "language_info": {
   "codemirror_mode": {
    "name": "ipython",
    "version": 3
   },
   "file_extension": ".py",
   "mimetype": "text/x-python",
   "name": "python",
   "nbconvert_exporter": "python",
   "pygments_lexer": "ipython3",
   "version": "3.9.7"
  },
  "orig_nbformat": 4
 },
 "nbformat": 4,
 "nbformat_minor": 2
}
